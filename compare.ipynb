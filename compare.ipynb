{
 "cells": [
  {
   "cell_type": "code",
   "execution_count": 1,
   "metadata": {},
   "outputs": [],
   "source": [
    "import numpy as np\n",
    "import pandas as pd"
   ]
  },
  {
   "cell_type": "code",
   "execution_count": 3,
   "metadata": {},
   "outputs": [],
   "source": [
    "cosine_ast=pd.read_csv('./distances/true_clones/cosine_sim_ast_true_clones.csv')\n",
    "cosine_Noast=pd.read_csv('./distances/true_clones/cosine_sim_No_ast_true_clones.csv')\n",
    "\n",
    "euclidean_ast=pd.read_csv('./distances/true_clones/euclidean_dist_ast_true_clones.csv')\n",
    "euclidean_Noast=pd.read_csv('./distances/true_clones/euclidean_dist_No_ast_true_clones.csv')\n",
    "\n",
    "dot_ast=pd.read_csv('./distances/true_clones/dot_product_ast_true_clones.csv')\n",
    "dot_Noast=pd.read_csv('./distances/true_clones/dot_product_No_ast_true_clones.csv')"
   ]
  },
  {
   "cell_type": "code",
   "execution_count": 11,
   "metadata": {},
   "outputs": [],
   "source": [
    "def GetCompareCosine(a1,a2):\n",
    "    \n",
    "    \"\"\" \n",
    "    a1: distances between embedding for ast based trained tokenizer and transformer\n",
    "    a2: distances between embedding for non ast based trained tokenzier and transformer\n",
    "    \"\"\"\n",
    "    o=a1>a2\n",
    "    t=0\n",
    "    for i in range(0,o.shape[0],1):\n",
    "        if (o[i]==True):\n",
    "            t=t+1\n",
    "    \n",
    "    return (t/o.shape[0])\n",
    "\n",
    "def GetCompareEuclidean(a1,a2):\n",
    "    \n",
    "    \"\"\" \n",
    "    a1: distances between embedding for ast based trained tokenizer and transformer\n",
    "    a2: distances between embedding for non ast based trained tokenzier and transformer\n",
    "    \"\"\"\n",
    "    o=a1<a2\n",
    "    t=0\n",
    "    for i in range(0,o.shape[0],1):\n",
    "        if (o[i]==True):\n",
    "            t=t+1\n",
    "    \n",
    "    return (t/o.shape[0])\n",
    "\n",
    "def GetCompareDot(a1,a2):\n",
    "    \n",
    "    \"\"\" \n",
    "    a1: distances between embedding for ast based trained tokenizer and transformer\n",
    "    a2: distances between embedding for non ast based trained tokenzier and transformer\n",
    "    \"\"\"\n",
    "    o=a1>a2\n",
    "    t=0\n",
    "    for i in range(0,o.shape[0],1):\n",
    "        if (o[i]==True):\n",
    "            t=t+1\n",
    "    \n",
    "    return (t/o.shape[0])"
   ]
  },
  {
   "cell_type": "code",
   "execution_count": 12,
   "metadata": {},
   "outputs": [
    {
     "name": "stdout",
     "output_type": "stream",
     "text": [
      "closer cosine similarity for ast based:  0.85\n"
     ]
    }
   ],
   "source": [
    "print(\"closer cosine similarity for ast based: \", GetCompareCosine(cosine_ast.to_numpy(), cosine_Noast.to_numpy()))"
   ]
  },
  {
   "cell_type": "code",
   "execution_count": 13,
   "metadata": {},
   "outputs": [
    {
     "name": "stdout",
     "output_type": "stream",
     "text": [
      "closer euclidean distance for ast based:  0.69\n"
     ]
    }
   ],
   "source": [
    "print(\"closer euclidean distance for ast based: \", GetCompareEuclidean(euclidean_ast.to_numpy(), euclidean_Noast.to_numpy()))"
   ]
  },
  {
   "cell_type": "code",
   "execution_count": 14,
   "metadata": {},
   "outputs": [
    {
     "name": "stdout",
     "output_type": "stream",
     "text": [
      "closer dot alignment for ast based:  1.0\n"
     ]
    }
   ],
   "source": [
    "print(\"closer dot alignment for ast based: \", GetCompareDot(dot_ast.to_numpy(), dot_Noast.to_numpy()))"
   ]
  },
  {
   "cell_type": "code",
   "execution_count": null,
   "metadata": {},
   "outputs": [],
   "source": []
  }
 ],
 "metadata": {
  "kernelspec": {
   "display_name": "HF",
   "language": "python",
   "name": "python3"
  },
  "language_info": {
   "codemirror_mode": {
    "name": "ipython",
    "version": 3
   },
   "file_extension": ".py",
   "mimetype": "text/x-python",
   "name": "python",
   "nbconvert_exporter": "python",
   "pygments_lexer": "ipython3",
   "version": "3.8.10"
  },
  "orig_nbformat": 4
 },
 "nbformat": 4,
 "nbformat_minor": 2
}
